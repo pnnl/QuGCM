{
 "cells": [
  {
   "cell_type": "markdown",
   "id": "78eba041-11e9-422a-a972-13c76be21c6d",
   "metadata": {},
   "source": [
    "While all the Pauli strings generated using `PySCF` and `OpenFermion`, we use `Qiskit` to generate the circuit. We also use `TrotterQRTE()` in `qiskit_algorithms` package to do the trotterization. Given the fact that `Qiskit` uses different endienness than `PySCF` and `OpenFermion`, you will see sometimes we put `[::-1]` to mark adjustment."
   ]
  },
  {
   "cell_type": "code",
   "execution_count": 1,
   "id": "fd228d4b-a959-4fb2-851d-cddd2b8d30f7",
   "metadata": {},
   "outputs": [
    {
     "data": {
      "text/plain": [
       "('0.2.1',\n",
       " {'qiskit': '0.46.0', 'qiskit-aer': '0.13.1', 'qiskit-ignis': None, 'qiskit-ibmq-provider': '0.20.2', 'qiskit-nature': '0.7.0', 'qiskit-finance': None, 'qiskit-optimization': None, 'qiskit-machine-learning': None},\n",
       " '2.4.0',\n",
       " '1.6.0')"
      ]
     },
     "execution_count": 1,
     "metadata": {},
     "output_type": "execute_result"
    }
   ],
   "source": [
    "import qiskit_algorithms\n",
    "import qiskit\n",
    "import pyscf\n",
    "import openfermion\n",
    "qiskit_algorithms.__version__, qiskit.__qiskit_version__,pyscf.__version__, openfermion.__version__"
   ]
  },
  {
   "cell_type": "code",
   "execution_count": 2,
   "id": "95210ef0-4433-44c0-ad2a-3cf881733718",
   "metadata": {},
   "outputs": [
    {
     "name": "stdout",
     "output_type": "stream",
     "text": [
      "This is a modified operator_pools.py by Muqing Zheng\n",
      "This is a modified pyscf_helper.py by Muqing Zheng\n"
     ]
    },
    {
     "name": "stderr",
     "output_type": "stream",
     "text": [
      "/home/firepanda415/anaconda3/envs/quant/lib/python3.10/site-packages/pyscf/dft/libxc.py:771: UserWarning: Since PySCF-2.3, B3LYP (and B3P86) are changed to the VWN-RPA variant, corresponding to the original definition by Stephens et al. (issue 1480) and the same as the B3LYP functional in Gaussian. To restore the VWN5 definition, you can put the setting \"B3LYP_WITH_VWN5 = True\" in pyscf_conf.py\n",
      "  warnings.warn('Since PySCF-2.3, B3LYP (and B3P86) are changed to the VWN-RPA variant, '\n"
     ]
    }
   ],
   "source": [
    "import numpy as np\n",
    "import scipy.linalg as sl\n",
    "## ADAPT-GCM\n",
    "try:\n",
    "    import operator_pools\n",
    "    import pyscf_helper\n",
    "except:\n",
    "    raise Except(\"See ReadMe. Please go to https://github.com/mayhallgroup/adapt-vqe/tree/master/src to download required files.\")\n",
    "\n",
    "## ADAPT-GCM\n",
    "from adapt_gcm import *\n",
    "from moles import *"
   ]
  },
  {
   "cell_type": "markdown",
   "id": "ee39a0fa-cbea-4642-8373-94ca0b61f7e5",
   "metadata": {},
   "source": [
    "## ADAPT-GCM\n",
    "\n",
    "The following example could require `mf.init_guess='atom'` in `init()` in `pyscf_helper.py` to converge."
   ]
  },
  {
   "cell_type": "code",
   "execution_count": 3,
   "id": "c7b77084-8d6d-4453-8ac9-578edc0568de",
   "metadata": {},
   "outputs": [
    {
     "name": "stdout",
     "output_type": "stream",
     "text": [
      " ---------------------------------------------------------\n",
      "                                                          \n",
      "                      Using Pyscf:\n",
      "                                                          \n",
      " ---------------------------------------------------------\n",
      "                                                          \n",
      "Choosing unit Angstrom\n",
      "SCF not converged.\n",
      "SCF energy = -0.497861057393689\n",
      "Warning: SCF did not converge, go to something different\n",
      "converged SCF energy = -1.19805014612773\n",
      "\n",
      "System and Method:\n",
      "[('H', (0, 0, 0)), ('H', (5, 0, 0)), ('H', (10, 0, 0)), ('H', (15, 0, 0))]\n",
      "Basis set                                      :      sto-3g\n",
      "Number of Orbitals                             :         4\n",
      "Number of electrons                            :         4\n",
      "Nuclear Repulsion                              :    0.4586202495 \n",
      "Electronic SCF energy                          :   -1.6566703956 \n",
      "SCF Energy                                     :   -1.1980501461\n",
      " AO->MO\n",
      " NElectrons:    2    2\n",
      " ecore:   0.00000000\n",
      " ERIs in the active-space:\n",
      "(4, 4, 4, 4)    0.00204800 Mb\n",
      " n_orb:    4\n",
      " n_a  :    2\n",
      " n_b  :    2\n",
      " HF Energy:  -1.19805015\n",
      " Build reference state with    2 alpha and    2 beta electrons [0, 2, 1, 3]\n",
      " State    0:  -1.86632754 au\n"
     ]
    }
   ],
   "source": [
    "## Option for the pool and GCM\n",
    "mol = H4L5() # internuclear distance H-H=5.0 Ang\n",
    "\n",
    "make_orth = False # If classically orthogonalize the basis vector set\n",
    "theta = np.pi/4 # constant phase parameter for all basis vectors\n",
    "\n",
    "mol.initialize()\n",
    "mol_name = mol.mol_name\n",
    "mol_name_pic = mol.mol_name_pic\n",
    "n_orb = mol.n_orb\n",
    "n_a = mol.n_a\n",
    "n_b = mol.n_b\n",
    "fermi_ham = mol.fermi_ham\n",
    "reference_ket = mol.reference_ket\n",
    "file_prefix = 'H4L5_Demo_Data/'"
   ]
  },
  {
   "cell_type": "markdown",
   "id": "05e6e7ba-44c8-4ed5-beec-d96a3db9a8dd",
   "metadata": {},
   "source": [
    "## Use Qubit-ADAPT pool"
   ]
  },
  {
   "cell_type": "code",
   "execution_count": 4,
   "id": "b2796779-4c20-404a-84dd-f0fc2f9d05c7",
   "metadata": {},
   "outputs": [],
   "source": [
    "## Muqing: Implement pool for Qubit-ADAPT-VQE\n",
    "## Reference: https://github.com/JordanovSJ/VQE/blob/78ff043c2487b379ba2d4d89af1347988ebccebd/scripts/iter_vqe/qubit_adapt_vqe.py\n",
    "##            https://github.com/JordanovSJ/VQE/blob/78ff043c2487b379ba2d4d89af1347988ebccebd/src/ansatz_element_sets.py#L134\n",
    "import itertools\n",
    "from operator_pools import OperatorPool\n",
    "class pauli_exc(OperatorPool):\n",
    "    def xyreplace(self, rstr):\n",
    "        temp_str = rstr.replace('Y', 'A')\n",
    "        X2Y_str = temp_str.replace('X', 'Y')\n",
    "        Y2X_str = X2Y_str.replace('A', 'X')\n",
    "        return Y2X_str\n",
    "    \n",
    "    def generate_SQ_Operators(self):\n",
    "        print(\" Form Pauli excitation operators\")\n",
    "        total_strs = []\n",
    "        self.fermi_ops = []\n",
    "        ### single_excitation_elements\n",
    "        ## SQExc(i, j).excitations_generators https://github.com/JordanovSJ/VQE/blob/78ff043c2487b379ba2d4d89af1347988ebccebd/src/ansatz_element_sets.py#L152\n",
    "        for i, j in itertools.combinations(range(self.n_spin_orb), 2):\n",
    "            termA  = (  0.5*QubitOperator('X{:d}'.format(i))+0.5j*QubitOperator('Y{:d}'.format(i))  )\n",
    "            termA *= (  0.5*QubitOperator('X{:d}'.format(j))-0.5j*QubitOperator('Y{:d}'.format(j))  )\n",
    "            termA -= hermitian_conjugated(termA)\n",
    "            \n",
    "            ## To individual Pauli string\n",
    "            for pt in termA.terms.keys():\n",
    "                temp_op = 1j*QubitOperator(pt)\n",
    "                if temp_op.action_strings.count('Y')%2 == 1:## Muqing: only include odd Y's\n",
    "                    if self.xyreplace( str(temp_op) ) not in total_strs:\n",
    "                        total_strs.append( str(temp_op) )\n",
    "                        self.fermi_ops.append( temp_op )\n",
    "                \n",
    "        ### Double excitations\n",
    "        ## DQExc([i, j], [k, l]).excitations_generators https://github.com/JordanovSJ/VQE/blob/78ff043c2487b379ba2d4d89af1347988ebccebd/src/ansatz_element_sets.py#L177\n",
    "        for i, j, k, l in itertools.combinations(range(self.n_spin_orb), 4):\n",
    "            termB = QubitOperator('')\n",
    "            for q1, q2 in zip([i,j], [k,l]):\n",
    "                termB *= (  0.5*QubitOperator('X{:d}'.format(q1))+0.5j*QubitOperator('Y{:d}'.format(q1))  )\n",
    "                termB *= (  0.5*QubitOperator('X{:d}'.format(q2))-0.5j*QubitOperator('Y{:d}'.format(q2))  )\n",
    "            termB -= hermitian_conjugated(termB)\n",
    "            \n",
    "            ## To individual Pauli string\n",
    "            for pt in termB.terms.keys():\n",
    "                temp_op = 1j*QubitOperator(pt)\n",
    "                if temp_op.action_strings.count('Y')%2 == 1:## Muqing: only include odd Y's\n",
    "                    if self.xyreplace( str(temp_op) ) not in total_strs:\n",
    "                        total_strs.append( str(temp_op) )\n",
    "                        self.fermi_ops.append( temp_op )\n",
    "\n",
    "        self.n_ops = len(self.fermi_ops)\n",
    "        print(\" Number of operators: \", self.n_ops)\n",
    "        return"
   ]
  },
  {
   "cell_type": "code",
   "execution_count": 5,
   "id": "3492dbfe-9554-45e0-bccf-fbe1c8b9b71b",
   "metadata": {},
   "outputs": [
    {
     "name": "stdout",
     "output_type": "stream",
     "text": [
      " Form Pauli excitation operators\n",
      " Number of operators:  308\n"
     ]
    }
   ],
   "source": [
    "pool = pauli_exc()\n",
    "pool.init(n_orb, n_occ_a=n_a, n_occ_b=n_b, n_vir_a=n_orb-n_a, n_vir_b=n_orb-n_b)"
   ]
  },
  {
   "cell_type": "code",
   "execution_count": 6,
   "id": "2a1d57e4-9eba-4c5c-ba6f-c36db6021a3c",
   "metadata": {},
   "outputs": [
    {
     "name": "stdout",
     "output_type": "stream",
     "text": [
      " Generate Sparse Matrices for operators in pool\n",
      "\n",
      "\n",
      "------------ Iter 0 Start ------------\n",
      " Sum of gradients = 1.892872\n",
      " Largest gradient = 0.343224\n",
      "\n",
      " Choose ansatz 268\n",
      " Number of saved prod bases 0 , H matrix size (2, 2)\n",
      "   Eigensolver: dimension reduced from 2 to 2, with eigval > 1.000e-14\n",
      " GCM Energy:  -1.345019003722381\n",
      " GCM error : 5.213085e-01\n",
      "------------ Iter 0 Finish -----------\n",
      "\n",
      "\n",
      "------------ Iter 1 Start ------------\n",
      " Sum of gradients = 1.862922\n",
      " Largest gradient = 0.352020\n",
      "\n",
      " Choose ansatz 108\n",
      " Number of saved prod bases 1 , H matrix size (4, 4)\n",
      "   Eigensolver: dimension reduced from 4 to 4, with eigval > 1.000e-14\n",
      " GCM Energy:  -1.519103324773616\n",
      " GCM error : 3.472242e-01\n",
      "------------ Iter 1 Finish -----------\n",
      "\n",
      "\n",
      "------------ Iter 2 Start ------------\n",
      " Sum of gradients = 2.003761\n",
      " Largest gradient = 0.378503\n",
      "\n",
      " Choose ansatz 121\n",
      " Number of saved prod bases 2 , H matrix size (6, 6)\n",
      "   Eigensolver: dimension reduced from 6 to 6, with eigval > 1.000e-14\n",
      " GCM Energy:  -1.866327347125301\n",
      " GCM error : 1.889281e-07\n",
      "------------ Iter 2 Finish -----------\n"
     ]
    }
   ],
   "source": [
    "[GCM_EVS,OneShot_EV, GCM_Indices, GCM_DIFFS, OneShot_Diff, GCM_BASIS_SIZE] = adapt_gcm(fermi_ham, \n",
    "                                pool,  reference_ket, theta,\n",
    "                                change_tol    = 1e-6,\n",
    "                                max_iter = 3,\n",
    "                                make_orth = make_orth,\n",
    "                                file_prefix  = file_prefix)"
   ]
  },
  {
   "cell_type": "markdown",
   "id": "70d740c3-03e2-4e97-8f51-d126d07d29a1",
   "metadata": {},
   "source": [
    "## Plot Errors"
   ]
  },
  {
   "cell_type": "code",
   "execution_count": 7,
   "id": "69ce2a53-7867-401d-b368-d48f09c4b3e3",
   "metadata": {},
   "outputs": [
    {
     "data": {
      "image/png": "[encoded data removed]",
      "text/plain": [
       "<Figure size 640x480 with 1 Axes>"
      ]
     },
     "metadata": {},
     "output_type": "display_data"
    }
   ],
   "source": [
    "import matplotlib.pyplot as plt\n",
    "iter_range = list(range( 0, len(GCM_DIFFS) ))\n",
    "plt.plot(iter_range, np.log10(np.abs(GCM_DIFFS))[iter_range],\n",
    "         marker='o',markerfacecolor='none',color='purple',\n",
    "         linestyle='--',linewidth=3,markersize=15, label=r'ADAPT-GCM, $\\theta = \\frac{\\pi}{4}$')\n",
    "plt.xlabel(r'# of Iterations', fontweight='bold')\n",
    "plt.ylabel(r'$\\log_{10}\\|E - E_{\\rm exact}\\|$')\n",
    "plt.title('LiH, error from the ground-state FCI energy')\n",
    "plt.legend()\n",
    "plt.xticks(iter_range)\n",
    "plt.tight_layout()\n",
    "plt.show()"
   ]
  },
  {
   "cell_type": "markdown",
   "id": "d63b13f9-195c-46f1-8423-700ad3ba082b",
   "metadata": {},
   "source": [
    "## Use Qiskit Primitive to Compute $H$ and $S$ in Iteration 2 (with only Single basis)"
   ]
  },
  {
   "cell_type": "code",
   "execution_count": 8,
   "id": "f5a8fef1-f9fe-4db9-ae71-44ce9dd46836",
   "metadata": {},
   "outputs": [],
   "source": [
    "from qiskit import QuantumCircuit, QuantumRegister, ClassicalRegister\n",
    "from qiskit.quantum_info import Pauli, SparsePauliOp\n",
    "from qiskit.quantum_info import Statevector\n",
    "from qiskit_algorithms import TimeEvolutionProblem\n",
    "from qiskit.quantum_info import Operator\n",
    "from qiskit_algorithms.time_evolvers.trotterization import TrotterQRTE\n",
    "from qiskit import transpile"
   ]
  },
  {
   "cell_type": "code",
   "execution_count": 9,
   "id": "d0c2ff55-9a85-48e1-ab6f-c024163f40f0",
   "metadata": {},
   "outputs": [],
   "source": [
    "## Convert openfermion.ops.operators.qubit_operator.QubitOperator to Qiskit operator\n",
    "def format_qubit_operator(qubit_op, n_qubits, real_coeff = False, inverse_order=False):\n",
    "    # qubit_op: openfermion.ops.operators.qubit_operator.QubitOperator\n",
    "    # n_qubits: int\n",
    "    # return array of coeffs and array of paulis\n",
    "    imaginary_flag = False\n",
    "    coefs = []\n",
    "    paulis = []\n",
    "    for term, term_coef in qubit_op.terms.items():\n",
    "        # Create a list of 'I' for all qubits\n",
    "        formatted_term = ['I'] * n_qubits\n",
    "        for qubit, pauli in term:\n",
    "            try:\n",
    "                formatted_term[qubit] = pauli\n",
    "            except:\n",
    "                print(qubit, pauli)\n",
    "        if real_coeff:\n",
    "            if term_coef != np.imag(term_coef):\n",
    "                imaginary_flag = True\n",
    "            term_coef = np.imag(term_coef)\n",
    "        coefs.append(term_coef)\n",
    "        if inverse_order:\n",
    "            paulis.append(''.join(formatted_term)[::-1])\n",
    "        else:\n",
    "            paulis.append(''.join(formatted_term))\n",
    "    return coefs, paulis, imaginary_flag"
   ]
  },
  {
   "cell_type": "code",
   "execution_count": 10,
   "id": "dd7da74a-3429-41ea-9381-8d180a7b5804",
   "metadata": {},
   "outputs": [
    {
     "name": "stdout",
     "output_type": "stream",
     "text": [
      "Number of Pauli strings in the Hamiltonian: 185\n"
     ]
    }
   ],
   "source": [
    "## Split Hamiltonian\n",
    "ham_jw = of.transforms.jordan_wigner(fermi_ham)\n",
    "ham_coefs, ham_paulis, ham_imag = format_qubit_operator(ham_jw, n_orb*2, real_coeff = False, inverse_order=False)\n",
    "print(\"Number of Pauli strings in the Hamiltonian:\", len(ham_paulis))"
   ]
  },
  {
   "cell_type": "markdown",
   "id": "3569cb7b-6291-4eb4-9568-5bb4c029d5e8",
   "metadata": {},
   "source": [
    "## Trotter all selected basis (Single basis only)\n",
    "\n",
    "We only select bases selected from first 3 iterations. NOTE: in GCM, string `IIIIIIII` should always be in the selected ansatz list, so we have 4 bases in this case."
   ]
  },
  {
   "cell_type": "code",
   "execution_count": 11,
   "id": "f2e7274e-e2b9-42aa-8436-2f8773aaeb41",
   "metadata": {},
   "outputs": [
    {
     "data": {
      "text/plain": [
       "[268, 108, 121]"
      ]
     },
     "execution_count": 11,
     "metadata": {},
     "output_type": "execute_result"
    }
   ],
   "source": [
    "ansatz_indx = GCM_Indices[0:3]\n",
    "ansatz_indx"
   ]
  },
  {
   "cell_type": "markdown",
   "id": "24d72762-3fdc-4211-b590-f9ea876d80da",
   "metadata": {},
   "source": [
    "We choose 268, 108, 121 three operators as the extra ansatz than `IIIIIIII`."
   ]
  },
  {
   "cell_type": "code",
   "execution_count": 12,
   "id": "7fc63cb6-4bd6-4f06-b159-203fc8460f88",
   "metadata": {},
   "outputs": [
    {
     "name": "stdout",
     "output_type": "stream",
     "text": [
      "Indx 268 Number of CNOT gates: 6, with error 1.447e-14\n",
      "Indx 108 Number of CNOT gates: 6, with error 1.447e-14\n",
      "Indx 121 Number of CNOT gates: 6, with error 1.510e-14\n"
     ]
    }
   ],
   "source": [
    "ansatz_circuits = {}\n",
    "ansatz_circuits[-1] = QuantumCircuit(n_orb*2) ## For string IIIIIIII\n",
    "\n",
    "for ind in ansatz_indx:\n",
    "    jw_op = pool.fermi_ops[ind]\n",
    "    ## To Qiskit Op\n",
    "    op_coefs, op_paulis, if_imag = format_qubit_operator(jw_op, n_orb*2, real_coeff = True, inverse_order=True) ## WARNING: Inverse the order here\n",
    "    qiskit_op = SparsePauliOp(op_paulis, coeffs=-1*np.array(op_coefs) )\n",
    "    ## To exp\n",
    "    final_time = np.pi*0.25\n",
    "    # initial_state = Statevector(reference_ket.todense())\n",
    "    initial_state = Statevector.from_label('0'*(n_orb*2))\n",
    "    problem = TimeEvolutionProblem(qiskit_op, initial_state=initial_state, time=final_time)\n",
    "    ## to circuit\n",
    "    trotter = TrotterQRTE(num_timesteps=1)\n",
    "    result = trotter.evolve(problem)\n",
    "    ## \n",
    "    ansatz_circuits[ind] = result.evolved_state.copy()\n",
    "    ## decompose circuit\n",
    "    decompose_circuit = result.evolved_state.decompose(reps=2).decompose('disentangler_dg').decompose('multiplex1_reverse_dg')\n",
    "    error = np.linalg.norm(Operator(decompose_circuit).reverse_qargs().data - ssl.expm( np.pi*0.25*pool.spmat_ops[ind]))\n",
    "    if 'cx' in decompose_circuit.count_ops().keys():\n",
    "        print(\"Indx\", ind, \"Number of CNOT gates: {:d}, with error {:.3e}\".format(decompose_circuit.count_ops()['cx'], error))\n",
    "    else:\n",
    "        print(\"Indx\", ind, \"Number of CNOT gates: {:d}, with error {:.3e}\".format(0, error))"
   ]
  },
  {
   "cell_type": "markdown",
   "id": "e4d1cee5-3601-4444-b9a1-9ae2c26cc0d4",
   "metadata": {},
   "source": [
    "The trotterization error is minimal."
   ]
  },
  {
   "cell_type": "markdown",
   "id": "2f043caa-e555-4e17-8bde-932db90ac2d7",
   "metadata": {},
   "source": [
    "## Hadamard test circuit function"
   ]
  },
  {
   "cell_type": "code",
   "execution_count": 13,
   "id": "676ccba9-dfae-4c3c-a3d8-64c23ca57871",
   "metadata": {},
   "outputs": [],
   "source": [
    "def form_hadu_gate(ansatz_dict,p,q,ham_pauli,basis_gates):\n",
    "    pauli_str = ham_pauli\n",
    "    circ_width = len(pauli_str)\n",
    "    ## controlled U gate in Hadamard test\n",
    "    haduq = QuantumRegister(circ_width)\n",
    "    hadu = QuantumCircuit(haduq)\n",
    "    ## Append right operator\n",
    "    hadu.append(ansatz_dict[q], qargs=haduq)\n",
    "    # hadu.barrier()\n",
    "    ## Append Paulis\n",
    "    for i in range(circ_width):\n",
    "        if pauli_str[i] == 'X':\n",
    "            hadu.x(i)\n",
    "        elif pauli_str[i] == 'Y':\n",
    "            hadu.y(i)\n",
    "        elif pauli_str[i] == 'Z':\n",
    "            hadu.z(i)\n",
    "        elif pauli_str[i] == 'I':\n",
    "            pass\n",
    "        else:\n",
    "            raise Exception(\"Not a Pauli gate: \", pauli_str[i])\n",
    "    # hadu.barrier()\n",
    "    ## Append left operator\n",
    "    left_conj = transpile(ansatz_dict[p],basis_gates=basis_gates,seed_transpiler=7, optimization_level=0).to_gate().inverse()\n",
    "    hadu.append(left_conj, qargs=haduq)\n",
    "    return  hadu\n",
    "    \n",
    "def form_had_circ(ansatz_dict,p,q,HF_str,ham_pauli,basis_gates):\n",
    "    pauli_str = ham_pauli\n",
    "    circ_width = len(pauli_str)\n",
    "    hadu_gate = transpile(form_hadu_gate(ansatz_dict,p,q,ham_pauli,basis_gates),\n",
    "                          basis_gates=basis_gates,seed_transpiler=7, optimization_level=0).to_gate()\n",
    "    ## Circuit\n",
    "    anc_cr = ClassicalRegister(1)\n",
    "    had_qr = QuantumRegister(circ_width+1) \n",
    "    had_circ = QuantumCircuit(had_qr, anc_cr)\n",
    "\n",
    "    ## Initial State\n",
    "    for i in range(circ_width):\n",
    "        if HF_str[i] == 'X':\n",
    "            had_circ.x(i+1)\n",
    "        elif HF_str[i] == 'I':\n",
    "            pass\n",
    "        else:\n",
    "            raise Exception(\"Not a Pauli gate: \", HF_scheme[i])\n",
    "    had_circ.barrier()\n",
    "    ##\n",
    "    had_circ.h(0)\n",
    "    had_circ.append(hadu_gate.control(), qargs=had_qr)\n",
    "    had_circ.h(0)\n",
    "    ##\n",
    "    had_circ.measure(had_qr[0], anc_cr)\n",
    "    return had_circ"
   ]
  },
  {
   "cell_type": "code",
   "execution_count": 14,
   "id": "0c662f1a-17b6-4ba9-adee-f1c97f2a03f5",
   "metadata": {},
   "outputs": [
    {
     "data": {
      "text/html": [
       "<pre style=\"word-wrap: normal;white-space: pre;background: #fff0;line-height: 1.1;font-family: &quot;Courier New&quot;,Courier,monospace\">      ┌──────────────┐┌───┐┌─────────────────┐\n",
       "q3_0: ┤0             ├┤ Y ├┤0                ├\n",
       "      │              │├───┤│                 │\n",
       "q3_1: ┤1             ├┤ X ├┤1                ├\n",
       "      │              │└───┘│                 │\n",
       "q3_2: ┤2             ├─────┤2                ├\n",
       "      │              │     │                 │\n",
       "q3_3: ┤3             ├─────┤3                ├\n",
       "      │  circuit-154 │┌───┐│  circuit-152_dg │\n",
       "q3_4: ┤4             ├┤ X ├┤4                ├\n",
       "      │              │├───┤│                 │\n",
       "q3_5: ┤5             ├┤ Y ├┤5                ├\n",
       "      │              │└───┘│                 │\n",
       "q3_6: ┤6             ├─────┤6                ├\n",
       "      │              │     │                 │\n",
       "q3_7: ┤7             ├─────┤7                ├\n",
       "      └──────────────┘     └─────────────────┘</pre>"
      ],
      "text/plain": [
       "      ┌──────────────┐┌───┐┌─────────────────┐\n",
       "q3_0: ┤0             ├┤ Y ├┤0                ├\n",
       "      │              │├───┤│                 │\n",
       "q3_1: ┤1             ├┤ X ├┤1                ├\n",
       "      │              │└───┘│                 │\n",
       "q3_2: ┤2             ├─────┤2                ├\n",
       "      │              │     │                 │\n",
       "q3_3: ┤3             ├─────┤3                ├\n",
       "      │  circuit-154 │┌───┐│  circuit-152_dg │\n",
       "q3_4: ┤4             ├┤ X ├┤4                ├\n",
       "      │              │├───┤│                 │\n",
       "q3_5: ┤5             ├┤ Y ├┤5                ├\n",
       "      │              │└───┘│                 │\n",
       "q3_6: ┤6             ├─────┤6                ├\n",
       "      │              │     │                 │\n",
       "q3_7: ┤7             ├─────┤7                ├\n",
       "      └──────────────┘     └─────────────────┘"
      ]
     },
     "execution_count": 14,
     "metadata": {},
     "output_type": "execute_result"
    }
   ],
   "source": [
    "form_hadu_gate(ansatz_circuits, -1,268, 'YXIIXYII', ['ecr', 'sx', 'x', 'rz']).draw()"
   ]
  },
  {
   "cell_type": "code",
   "execution_count": 15,
   "id": "6d66e5c7-411a-44fc-a692-118e4f1e65eb",
   "metadata": {},
   "outputs": [
    {
     "data": {
      "text/html": [
       "<pre style=\"word-wrap: normal;white-space: pre;background: #fff0;line-height: 1.1;font-family: &quot;Courier New&quot;,Courier,monospace\">             ░ ┌───┐                ┌───┐┌─┐\n",
       "q14_0: ──────░─┤ H ├───────■────────┤ H ├┤M├\n",
       "       ┌───┐ ░ └───┘┌──────┴───────┐└───┘└╥┘\n",
       "q14_1: ┤ X ├─░──────┤0             ├──────╫─\n",
       "       ├───┤ ░      │              │      ║ \n",
       "q14_2: ┤ X ├─░──────┤1             ├──────╫─\n",
       "       ├───┤ ░      │              │      ║ \n",
       "q14_3: ┤ X ├─░──────┤2             ├──────╫─\n",
       "       ├───┤ ░      │              │      ║ \n",
       "q14_4: ┤ X ├─░──────┤3             ├──────╫─\n",
       "       └───┘ ░      │  circuit-232 │      ║ \n",
       "q14_5: ──────░──────┤4             ├──────╫─\n",
       "             ░      │              │      ║ \n",
       "q14_6: ──────░──────┤5             ├──────╫─\n",
       "             ░      │              │      ║ \n",
       "q14_7: ──────░──────┤6             ├──────╫─\n",
       "             ░      │              │      ║ \n",
       "q14_8: ──────░──────┤7             ├──────╫─\n",
       "             ░      └──────────────┘      ║ \n",
       " c0: 1/═══════════════════════════════════╩═\n",
       "                                          0 </pre>"
      ],
      "text/plain": [
       "             ░ ┌───┐                ┌───┐┌─┐\n",
       "q14_0: ──────░─┤ H ├───────■────────┤ H ├┤M├\n",
       "       ┌───┐ ░ └───┘┌──────┴───────┐└───┘└╥┘\n",
       "q14_1: ┤ X ├─░──────┤0             ├──────╫─\n",
       "       ├───┤ ░      │              │      ║ \n",
       "q14_2: ┤ X ├─░──────┤1             ├──────╫─\n",
       "       ├───┤ ░      │              │      ║ \n",
       "q14_3: ┤ X ├─░──────┤2             ├──────╫─\n",
       "       ├───┤ ░      │              │      ║ \n",
       "q14_4: ┤ X ├─░──────┤3             ├──────╫─\n",
       "       └───┘ ░      │  circuit-232 │      ║ \n",
       "q14_5: ──────░──────┤4             ├──────╫─\n",
       "             ░      │              │      ║ \n",
       "q14_6: ──────░──────┤5             ├──────╫─\n",
       "             ░      │              │      ║ \n",
       "q14_7: ──────░──────┤6             ├──────╫─\n",
       "             ░      │              │      ║ \n",
       "q14_8: ──────░──────┤7             ├──────╫─\n",
       "             ░      └──────────────┘      ║ \n",
       " c0: 1/═══════════════════════════════════╩═\n",
       "                                          0 "
      ]
     },
     "execution_count": 15,
     "metadata": {},
     "output_type": "execute_result"
    }
   ],
   "source": [
    "form_had_circ(ansatz_circuits, -1,268, 'XXXXIIII', 'YXIIXYII', ['ecr', 'sx', 'x', 'rz']).draw()"
   ]
  },
  {
   "cell_type": "markdown",
   "id": "93900241-c446-433b-ad8b-f2132b35371b",
   "metadata": {},
   "source": [
    "## State prepration circuit for diagonal entries"
   ]
  },
  {
   "cell_type": "code",
   "execution_count": 16,
   "id": "8bf0d4f0-f6b2-4611-a032-920bff2ab4f2",
   "metadata": {},
   "outputs": [],
   "source": [
    "def form_single_circ(ansatz_dict, p, HF_str):\n",
    "    circ_width = len(HF_str)\n",
    "    ## controlled U gate in Hadamard test\n",
    "    iq = QuantumRegister(circ_width)\n",
    "    ic = QuantumCircuit(iq)\n",
    "    for i in range(circ_width):\n",
    "        if HF_str[i] == 'X':\n",
    "            ic.x(i)\n",
    "        elif HF_str[i] == 'I':\n",
    "            ic.id(i)\n",
    "        else:\n",
    "            raise Exception(\"Not a Pauli gate: \", HF_scheme[i])\n",
    "    ## Append right operator\n",
    "    ic.append(ansatz_dict[p], qargs=iq)\n",
    "    return ic"
   ]
  },
  {
   "cell_type": "markdown",
   "id": "3b32a5b5-1fde-474e-b587-f0edf470fa1a",
   "metadata": {},
   "source": [
    "## Compute values"
   ]
  },
  {
   "cell_type": "code",
   "execution_count": 17,
   "id": "21eac728-e024-40a0-8c9a-d2e449819754",
   "metadata": {},
   "outputs": [],
   "source": [
    "from scipy.sparse import csc_matrix"
   ]
  },
  {
   "cell_type": "code",
   "execution_count": 18,
   "id": "dcc383bf-5220-4304-b4bc-061bc3303bb1",
   "metadata": {},
   "outputs": [
    {
     "name": "stdout",
     "output_type": "stream",
     "text": [
      "0 Finished\n",
      "0 1 Finished\n",
      "0 2 Finished\n",
      "0 3 Finished\n",
      "1 Finished\n",
      "1 2 Finished\n",
      "1 3 Finished\n",
      "2 Finished\n",
      "2 3 Finished\n",
      "3 Finished\n"
     ]
    }
   ],
   "source": [
    "from qiskit.primitives import Sampler, Estimator\n",
    "\n",
    "sampler = Sampler()  ## for off-diagonal entries\n",
    "estimator = Estimator()  ## for diagonal entries\n",
    "\n",
    "basis_list = list(ansatz_circuits.keys())\n",
    "num_basis = len(basis_list)\n",
    "Hmat = np.zeros((num_basis, num_basis), dtype=complex)\n",
    "Smat = np.zeros((num_basis, num_basis), dtype=complex)\n",
    "\n",
    "HF_str = ('X'*4+'I'*4)  ## Hartree-Fock state \n",
    "basis_gates =  ['ecr', 'sx', 'x', 'rz']\n",
    "\n",
    "## For estimator()\n",
    "qiskit_pauli_ops = []\n",
    "for p in ham_paulis:\n",
    "     qiskit_pauli_ops.append(SparsePauliOp(p)) \n",
    "##\n",
    "for p in range(num_basis):\n",
    "    for q in range(p, num_basis):\n",
    "        if p == q:\n",
    "            ## Generate circuits for one entry\n",
    "            circ_list = []\n",
    "            state_circ = form_single_circ(ansatz_circuits, basis_list[p], HF_str)\n",
    "            initial_circ = transpile(state_circ, basis_gates=basis_gates,seed_transpiler=7, optimization_level=2)\n",
    "            ## Run the job\n",
    "            job_ideal = estimator.run([initial_circ]*len(qiskit_pauli_ops), qiskit_pauli_ops, shots=8192)\n",
    "            res_ideal = job_ideal.result().values\n",
    "            ### S\n",
    "            Smat[p,p] = res_ideal[0]\n",
    "            ### H\n",
    "            entry_value = 0\n",
    "            for h in range(len(ham_paulis)):\n",
    "                entry_value += ham_coefs[h] * res_ideal[h]\n",
    "            Hmat[p,p] = entry_value\n",
    "            print(p,\"Finished\")\n",
    "        else:\n",
    "            ## Generate circuits for one entry\n",
    "            circ_list = []\n",
    "            for h in range(len(ham_paulis)):\n",
    "                hpauli = ham_paulis[h]\n",
    "                had_circ = form_had_circ(ansatz_circuits, basis_list[p],basis_list[q], HF_str, hpauli, basis_gates)\n",
    "                trans_had = transpile(had_circ,basis_gates=basis_gates,seed_transpiler=7, optimization_level=1)\n",
    "                circ_list.append(trans_had)\n",
    "            ## Run the job\n",
    "            job = sampler.run(circ_list, shots=8192)\n",
    "            job_result = job.result()\n",
    "            ## Collect data\n",
    "            entry_value = 0\n",
    "            print(p,q,\"Finished\")\n",
    "            for h in range(len(ham_paulis)):\n",
    "                ##\n",
    "                try:\n",
    "                    p0 = job_result.quasi_dists[h][0]\n",
    "                except:\n",
    "                    p0 = 0\n",
    "                p1 = 1-p0\n",
    "                ## Record\n",
    "                entry_value += ham_coefs[h] * (p0-p1)\n",
    "                if ham_paulis[h] == 'I'*len(ham_paulis[h]):\n",
    "                    Smat[p,q] = (p0-p1)\n",
    "                    Smat[q,p] = Smat[p,q].conj()\n",
    "            ##\n",
    "            Hmat[p,q] = entry_value\n",
    "            Hmat[q,p] = Hmat[p,q].conj()\n",
    "\n",
    "Hmat = Hmat.real\n",
    "Smat = Smat.real"
   ]
  },
  {
   "cell_type": "markdown",
   "id": "4c695106-2035-4f76-985a-6e68a482c7ef",
   "metadata": {},
   "source": [
    "### Check difference with the ideal case"
   ]
  },
  {
   "cell_type": "code",
   "execution_count": 20,
   "id": "56ba5940-fb5a-48c8-b34a-1c19cf44a7dc",
   "metadata": {},
   "outputs": [
    {
     "data": {
      "text/plain": [
       "(array([[-1.19603282, -0.97231959, -0.8472922 , -0.85945127],\n",
       "        [-0.97231959, -1.33481747, -0.61803545, -0.67939098],\n",
       "        [-0.8472922 , -0.61803545, -1.20738569, -0.60974837],\n",
       "        [-0.85945127, -0.67939098, -0.60974837, -1.53279159]]),\n",
       " array([[-1.19805015, -0.96849753, -0.85338594, -0.84714938],\n",
       "        [-0.96849753, -1.34295294, -0.60344088, -0.68483117],\n",
       "        [-0.85338594, -0.60344088, -1.20662311, -0.60343499],\n",
       "        [-0.84714938, -0.68483117, -0.60343499, -1.53218875]]))"
      ]
     },
     "execution_count": 20,
     "metadata": {},
     "output_type": "execute_result"
    }
   ],
   "source": [
    "Hmat_exact = np.load(file_prefix+\"IterAG{:d}_H.npy\".format(2))[0:4, 0:4]\n",
    "Smat_exact = np.load(file_prefix+\"IterAG{:d}_S.npy\".format(2))[0:4, 0:4]\n",
    "Hmat,Hmat_exact"
   ]
  },
  {
   "cell_type": "code",
   "execution_count": 21,
   "id": "a8223ab3-6e76-4fc3-9b5a-cf56185a9ee4",
   "metadata": {},
   "outputs": [
    {
     "data": {
      "text/plain": [
       "(0.0322841848283796, 0.019168963932932465)"
      ]
     },
     "execution_count": 21,
     "metadata": {},
     "output_type": "execute_result"
    }
   ],
   "source": [
    "np.linalg.norm(Hmat - Hmat_exact), np.linalg.norm(Smat - Smat_exact)"
   ]
  },
  {
   "cell_type": "markdown",
   "id": "5f12acfc-d649-4cbe-87cd-e517b557b77f",
   "metadata": {},
   "source": [
    "### Check eigenvalues"
   ]
  },
  {
   "cell_type": "code",
   "execution_count": 22,
   "id": "67b112cf-b45b-49ed-b85a-c276431494be",
   "metadata": {},
   "outputs": [
    {
     "name": "stdout",
     "output_type": "stream",
     "text": [
      "   Eigensolver: dimension reduced from 4 to 4, with eigval > 1.000e-06\n",
      "   Eigensolver: dimension reduced from 4 to 4, with eigval > 1.000e-14\n",
      "Error in exact case: 1.929e-07, error in quantum circuit with 8192 shots: 1.115e-02\n"
     ]
    }
   ],
   "source": [
    "true_energy = -1.86632754\n",
    "ev_exact = gcm_eig(Hmat_exact, Smat_exact, ev_thresh=1e-6)\n",
    "ev = gcm_eig(Hmat, Smat, ev_thresh=1e-14)\n",
    "\n",
    "print(\"Error in exact case: {:.3e}, error in quantum circuit with 8192 shots: {:.3e}\".format(np.abs(ev_exact[0]-true_energy), \n",
    "                                                                                             np.abs(ev[0]-true_energy)))"
   ]
  },
  {
   "cell_type": "markdown",
   "id": "0814baa2-afeb-4236-abf8-1e43146652c2",
   "metadata": {},
   "source": [
    "Most of the error actually from the finite number of shots since the trotterization error is minimal."
   ]
  },
  {
   "cell_type": "markdown",
   "id": "cedec062-9772-4a56-8a9f-2655cc5d6ff8",
   "metadata": {},
   "source": [
    "## Appendix: About the ordering of Pauli operators from other packages to Qiskit"
   ]
  },
  {
   "cell_type": "markdown",
   "id": "4b1d8e0f-4014-4c50-810f-105dc2d41ee3",
   "metadata": {},
   "source": [
    "Let us say our observable is `XI`. If we put `XI` in the Qiskit circuit with the exact ordr, we have "
   ]
  },
  {
   "cell_type": "code",
   "execution_count": 23,
   "id": "ee7c082e-e206-4bba-9f75-3c61123eba7b",
   "metadata": {},
   "outputs": [
    {
     "data": {
      "text/html": [
       "<pre style=\"word-wrap: normal;white-space: pre;background: #fff0;line-height: 1.1;font-family: &quot;Courier New&quot;,Courier,monospace\">     ┌───┐\n",
       "q_0: ┤ X ├\n",
       "     └───┘\n",
       "q_1: ─────\n",
       "          </pre>"
      ],
      "text/plain": [
       "     ┌───┐\n",
       "q_0: ┤ X ├\n",
       "     └───┘\n",
       "q_1: ─────\n",
       "          "
      ]
     },
     "execution_count": 23,
     "metadata": {},
     "output_type": "execute_result"
    }
   ],
   "source": [
    "from qiskit import QuantumCircuit\n",
    "\n",
    "test_circ = QuantumCircuit(2)\n",
    "test_circ.x(0)\n",
    "test_circ.draw()"
   ]
  },
  {
   "cell_type": "markdown",
   "id": "590604f9-22f4-4d86-aefd-7c052abf184c",
   "metadata": {},
   "source": [
    "It has matrix"
   ]
  },
  {
   "cell_type": "code",
   "execution_count": 24,
   "id": "4cc690fd-4e3b-4511-a212-5f61119754aa",
   "metadata": {},
   "outputs": [
    {
     "data": {
      "text/plain": [
       "array([[0., 1., 0., 0.],\n",
       "       [1., 0., 0., 0.],\n",
       "       [0., 0., 0., 1.],\n",
       "       [0., 0., 1., 0.]])"
      ]
     },
     "execution_count": 24,
     "metadata": {},
     "output_type": "execute_result"
    }
   ],
   "source": [
    "from qiskit.quantum_info import Operator\n",
    "Operator(test_circ).data.real"
   ]
  },
  {
   "cell_type": "markdown",
   "id": "00ac21b4-a0ec-47e9-840b-735d9348c64a",
   "metadata": {},
   "source": [
    "It is obvisous that this is in fact $I \\otimes X$."
   ]
  },
  {
   "cell_type": "code",
   "execution_count": 25,
   "id": "4dc0e206-a1dd-4a11-bb64-9f38bc19826d",
   "metadata": {},
   "outputs": [
    {
     "data": {
      "text/plain": [
       "array([[0., 1., 0., 0.],\n",
       "       [1., 0., 0., 0.],\n",
       "       [0., 0., 0., 1.],\n",
       "       [0., 0., 1., 0.]])"
      ]
     },
     "execution_count": 25,
     "metadata": {},
     "output_type": "execute_result"
    }
   ],
   "source": [
    "import numpy as np\n",
    "X = np.array([[0,1],[1,0]])\n",
    "I = np.identity(2)\n",
    "np.kron(I, X)"
   ]
  },
  {
   "cell_type": "markdown",
   "id": "91d7c174-3ec6-49b8-aaa4-ef990e510b93",
   "metadata": {},
   "source": [
    "That is because Qiskit uses little endian and the top qubit is the least significant (right-most) one."
   ]
  },
  {
   "cell_type": "code",
   "execution_count": 26,
   "id": "491d1c12-0ab7-4fe7-8b5a-d1aaac3c171b",
   "metadata": {},
   "outputs": [
    {
     "data": {
      "text/plain": [
       "array([[0., 0., 1., 0.],\n",
       "       [0., 0., 0., 1.],\n",
       "       [1., 0., 0., 0.],\n",
       "       [0., 1., 0., 0.]])"
      ]
     },
     "execution_count": 26,
     "metadata": {},
     "output_type": "execute_result"
    }
   ],
   "source": [
    "Operator(test_circ).reverse_qargs().data.real"
   ]
  },
  {
   "cell_type": "markdown",
   "id": "eb8e8077-b9fa-40b2-b686-355774f2b076",
   "metadata": {},
   "source": [
    "However, in `TimeEvolutionProblem` and  `TrotterQRTE`, if I want to generate circuit for $e^{-i XI}$, we can do"
   ]
  },
  {
   "cell_type": "code",
   "execution_count": 27,
   "id": "07db575a-4c46-4e1e-9776-f1b6498bd535",
   "metadata": {},
   "outputs": [
    {
     "data": {
      "text/html": [
       "<pre style=\"word-wrap: normal;white-space: pre;background: #fff0;line-height: 1.1;font-family: &quot;Courier New&quot;,Courier,monospace\">     ┌─────────────────┐┌─────────────────┐\n",
       "q_0: ┤0                ├┤0                ├\n",
       "     │  circuit-343640 ││  exp(-it XI)(1) │\n",
       "q_1: ┤1                ├┤1                ├\n",
       "     └─────────────────┘└─────────────────┘</pre>"
      ],
      "text/plain": [
       "     ┌─────────────────┐┌─────────────────┐\n",
       "q_0: ┤0                ├┤0                ├\n",
       "     │  circuit-343640 ││  exp(-it XI)(1) │\n",
       "q_1: ┤1                ├┤1                ├\n",
       "     └─────────────────┘└─────────────────┘"
      ]
     },
     "execution_count": 27,
     "metadata": {},
     "output_type": "execute_result"
    }
   ],
   "source": [
    "qiskit_op = SparsePauliOp('XI', coeffs=1 )\n",
    "\n",
    "final_time = 1\n",
    "initial_state = Statevector.from_label('0'*(2))\n",
    "problem = TimeEvolutionProblem(qiskit_op, initial_state=initial_state, time=final_time)\n",
    "\n",
    "trotter = TrotterQRTE(num_timesteps=1)\n",
    "result = trotter.evolve(problem)\n",
    "\n",
    "result.evolved_state.draw()"
   ]
  },
  {
   "cell_type": "markdown",
   "id": "491d5714-c632-4807-b38f-a17fc6d3fa64",
   "metadata": {},
   "source": [
    "Then we compare with result from `scipy`, we can see the matrices matches"
   ]
  },
  {
   "cell_type": "code",
   "execution_count": 28,
   "id": "254da99e-2023-43a2-a87c-89268fc571ac",
   "metadata": {},
   "outputs": [
    {
     "data": {
      "text/plain": [
       "1.5700924586837752e-16"
      ]
     },
     "execution_count": 28,
     "metadata": {},
     "output_type": "execute_result"
    }
   ],
   "source": [
    "sparse_op = csc_matrix(np.kron(X, np.identity(2)))\n",
    "error = np.linalg.norm(Operator(result.evolved_state).data - ssl.expm( -1j*sparse_op))\n",
    "error"
   ]
  },
  {
   "cell_type": "markdown",
   "id": "b0bc3757-787a-48a2-9cc3-4ec6455ac893",
   "metadata": {},
   "source": [
    "We can find $e^{-i XI}|00\\rangle$ by"
   ]
  },
  {
   "cell_type": "code",
   "execution_count": 29,
   "id": "5caf16b1-eb3c-4f37-9aba-dda8fe876377",
   "metadata": {},
   "outputs": [
    {
     "data": {
      "text/plain": [
       "[{0: 0.3021240234375, 2: 0.6978759765625}]"
      ]
     },
     "execution_count": 29,
     "metadata": {},
     "output_type": "execute_result"
    }
   ],
   "source": [
    "# from qiskit.quantum_info import Statevector\n",
    "# Statevector(result.evolved_state)\n",
    "# ['ecr', 'sx', 'x', 'rz']\n",
    "exp_circ = result.evolved_state.copy()\n",
    "exp_circ.measure_all()\n",
    "\n",
    "sampler = Sampler() \n",
    "trans_circ = transpile(exp_circ,basis_gates=['ecr', 'sx', 'x', 'rz'],seed_transpiler=7, optimization_level=0)\n",
    "job = sampler.run(trans_circ, shots=8192)\n",
    "job.result().quasi_dists"
   ]
  },
  {
   "cell_type": "markdown",
   "id": "4ac28bbd-8438-4b77-a17b-5c18a63c6aaf",
   "metadata": {},
   "source": [
    "This matches with the squared 1st row of the unitary matrix $e^{-i XI}$"
   ]
  },
  {
   "cell_type": "code",
   "execution_count": 30,
   "id": "c7ac0707-f2d9-4e30-a263-94d1f1f3ef24",
   "metadata": {},
   "outputs": [
    {
     "data": {
      "text/plain": [
       "array([ 0.29192658,  0.        , -0.70807342,  0.        ])"
      ]
     },
     "execution_count": 30,
     "metadata": {},
     "output_type": "execute_result"
    }
   ],
   "source": [
    "(Operator(result.evolved_state).data[0,:]**2).real"
   ]
  },
  {
   "cell_type": "markdown",
   "id": "051d056e-464e-470b-bdbc-82fa6052fb9b",
   "metadata": {},
   "source": [
    "That is to say, we do not need to reverse the order like in the first example. However, because I am treating the top qubit as the most sigificant qubit, I have to specifically reverse Pauli string order only in `TimeEvolutionProblem` but keep others (like the initialization of Hartree-Fock state the same)."
   ]
  },
  {
   "cell_type": "code",
   "execution_count": null,
   "id": "ecb7a38f-41f0-4aa2-8343-91e64905bad0",
   "metadata": {},
   "outputs": [],
   "source": []
  }
 ],
 "metadata": {
  "kernelspec": {
   "display_name": "Python 3 (ipykernel)",
   "language": "python",
   "name": "python3"
  },
  "language_info": {
   "codemirror_mode": {
    "name": "ipython",
    "version": 3
   },
   "file_extension": ".py",
   "mimetype": "text/x-python",
   "name": "python",
   "nbconvert_exporter": "python",
   "pygments_lexer": "ipython3",
   "version": "3.10.13"
  }
 },
 "nbformat": 4,
 "nbformat_minor": 5
}
